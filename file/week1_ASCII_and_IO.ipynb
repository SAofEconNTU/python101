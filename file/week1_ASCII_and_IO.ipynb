{
 "cells": [
  {
   "cell_type": "markdown",
   "id": "bde13cc7",
   "metadata": {},
   "source": [
    "# Python的字元編碼\n",
    "\n",
    "\n",
    "電腦有許多位元，儲存的資料為1跟0，為了要表示複雜的資料，例如字元、圖片等等，必須將**多個位元合併成一組，形成2進位的數字**。字元編碼格式有許多種，最通用的為Unicode標準的UTF-8格式，也是Python檔案所採用的字元編碼系統。除了UTF-8以外，常見的有ASCII碼。這是較早期的編碼系統，有7位碼、8位碼兩種形式，前者可以表示$2^7=128$種字元，主要是常用的英文字母和符號；後者則從128位開始，擴充了更多符號。各字元對應的編碼如下圖。\n",
    "![](https://lh3.googleusercontent.com/proxy/AIxKDeisTpbnwn82dk2riC2VSsn_QoKTWxNIO06VeZy8mZ2Pko_nsVNCEVt0AJ9VeCT7IbTqv0dWJTnFlWvLQI_ZA7w4-7YeLDE7C0NFOYXfAeIREdICNclV)\n",
    "![](https://lh3.googleusercontent.com/proxy/AkuU-f7x-Kc4GtJqSgImq9nDIshgQrsgiBbYNMD3yqWOoCObBqCRMuFMSCEYVnuShDDU4iDQ6h8Gn8E1ux8HZM71WfIgfgzxG1gCODrEy1I8uNHAvX4yF3LjYxEFfz3mqjU)\n",
    "\n",
    "ASCII主要用於顯示現代英文，除了英文以外的語言幾乎都採用Unicode標準。為了相容性，UTF-8的前128個字元編碼和ASCII一樣。因此在撰寫python檔案時，盡量使用前128種字元，否則可能會出現無法顯示的亂碼。\n",
    "\n",
    "### 控制字元\n",
    "在ASCII中，前33個字元是控制字元，用來控制已經處理過的文字，實際上很少使用，無法被列印。"
   ]
  },
  {
   "cell_type": "markdown",
   "id": "6cd504bb",
   "metadata": {},
   "source": [
    "# Python的輸出:print()函數\n",
    "\n",
    "電腦與使用者互動的基本模式為輸入輸出(I/O)，將某些訊息傳入電腦之中，經過處理，再重新輸出到用戶端。Python中內建的輸出函數為`print()`，函數的概念之後會再提到，此處先不多做敘述。`print`函數的主要功能是將處理過的資料輸出到螢幕，資料有許多型別，例如：整數、字串等等。將要輸出的資料放到括弧中便可輸出，如果有多筆資料要輸出，可以在括號中用' , '分隔。"
   ]
  },
  {
   "cell_type": "code",
   "execution_count": 2,
   "id": "5768a573",
   "metadata": {},
   "outputs": [
    {
     "name": "stdout",
     "output_type": "stream",
     "text": [
      "Hello World!\n",
      "Hello World!\n",
      "a\n",
      "a\n"
     ]
    }
   ],
   "source": [
    "# 用\"\"或者''包起來的部分是字串\n",
    "print(\"Hello World!\")\n",
    "print('Hello World!')\n",
    "print(\"a\")\n",
    "print('a')"
   ]
  },
  {
   "cell_type": "code",
   "execution_count": 1,
   "id": "0e886a1d",
   "metadata": {},
   "outputs": [
    {
     "name": "stdout",
     "output_type": "stream",
     "text": [
      "100\n"
     ]
    }
   ],
   "source": [
    "# 這是整數\n",
    "print(100)"
   ]
  },
  {
   "cell_type": "code",
   "execution_count": 4,
   "id": "107a10c9",
   "metadata": {},
   "outputs": [
    {
     "name": "stdout",
     "output_type": "stream",
     "text": [
      "3.14\n",
      "(2-3j)\n",
      "True False\n"
     ]
    }
   ],
   "source": [
    "# 浮點數\n",
    "print(3.14)\n",
    "\n",
    "# 複數，Python中用j表示虛部\n",
    "print(2-3j)\n",
    "\n",
    "# 布林值\n",
    "print(True, False)"
   ]
  },
  {
   "cell_type": "code",
   "execution_count": 3,
   "id": "2d1a0a2a",
   "metadata": {},
   "outputs": [
    {
     "name": "stdout",
     "output_type": "stream",
     "text": [
      "2\n",
      "1 2 3 4 sequence\n"
     ]
    }
   ],
   "source": [
    "# 也可以放入運算式\n",
    "print(1+1)\n",
    "\n",
    "# 同時印出多種型別\n",
    "print(1, 2, 3, 4, 'sequence')"
   ]
  },
  {
   "cell_type": "markdown",
   "id": "843c5893",
   "metadata": {},
   "source": [
    "我們可以看到，每次呼叫`print`之後，會先印出括號中的內容，接著換行，再執行下一行程式。如果傳入多筆資料，每筆資料會用一個空格隔開。如果我們不希望每次呼叫`print`之後都換行，或者在各筆資料之間不是空格，可以透過傳入`end,sep`參數來控制。例如如果希望在每行之後印出'XD'，只要設定`end='XD'`，`sep`同理。兩個參數的順序沒有影響，在之後的函數部分會解釋。"
   ]
  },
  {
   "cell_type": "code",
   "execution_count": 4,
   "id": "d7d112fb",
   "metadata": {},
   "outputs": [
    {
     "ename": "TypeError",
     "evalue": "end must be None or a string, not int",
     "output_type": "error",
     "traceback": [
      "\u001b[1;31m---------------------------------------------------------------------------\u001b[0m",
      "\u001b[1;31mTypeError\u001b[0m                                 Traceback (most recent call last)",
      "\u001b[1;32m~\\AppData\\Local\\Temp/ipykernel_13580/3410404310.py\u001b[0m in \u001b[0;36m<module>\u001b[1;34m\u001b[0m\n\u001b[0;32m      1\u001b[0m \u001b[1;31m# 注意end,sep只能設定為字串，否則會發生錯誤\u001b[0m\u001b[1;33m\u001b[0m\u001b[1;33m\u001b[0m\u001b[1;33m\u001b[0m\u001b[0m\n\u001b[1;32m----> 2\u001b[1;33m \u001b[0mprint\u001b[0m\u001b[1;33m(\u001b[0m\u001b[1;34m'word'\u001b[0m\u001b[1;33m,\u001b[0m \u001b[0mend\u001b[0m \u001b[1;33m=\u001b[0m \u001b[1;36m1\u001b[0m\u001b[1;33m)\u001b[0m\u001b[1;33m\u001b[0m\u001b[1;33m\u001b[0m\u001b[0m\n\u001b[0m",
      "\u001b[1;31mTypeError\u001b[0m: end must be None or a string, not int"
     ]
    }
   ],
   "source": [
    "# 注意end,sep只能設定為字串，否則會發生錯誤 \n",
    "print('word', end = 1)"
   ]
  },
  {
   "cell_type": "code",
   "execution_count": 5,
   "id": "a3ff3653",
   "metadata": {},
   "outputs": [
    {
     "name": "stdout",
     "output_type": "stream",
     "text": [
      "1 2 3\n",
      "哈哈 笑死🤣🤣🤣\n",
      "新~年~快~樂\n",
      "2021/9/22 開學\n",
      "庭院深深幾許深\n"
     ]
    }
   ],
   "source": [
    "# 預設的end, sep如下\n",
    "print(1, 2, 3, sep = ' ', end = '\\n')\n",
    "\n",
    "# 如果沒有更改，end, sep會依照預設值輸出\n",
    "print('哈哈', '笑死', end = '🤣'*3)\n",
    "print('\\n新', '年', '快', '樂', sep = '~')\n",
    "\n",
    "print(2021, 9, 22, sep = '/', end = ' 開學\\n')\n",
    "print('庭院', '', '幾許', end = '深\\n', sep = '深')"
   ]
  },
  {
   "cell_type": "code",
   "execution_count": 6,
   "id": "9c70febe",
   "metadata": {},
   "outputs": [
    {
     "name": "stdout",
     "output_type": "stream",
     "text": [
      "Help on built-in function print in module builtins:\n",
      "\n",
      "print(...)\n",
      "    print(value, ..., sep=' ', end='\\n', file=sys.stdout, flush=False)\n",
      "    \n",
      "    Prints the values to a stream, or to sys.stdout by default.\n",
      "    Optional keyword arguments:\n",
      "    file:  a file-like object (stream); defaults to the current sys.stdout.\n",
      "    sep:   string inserted between values, default a space.\n",
      "    end:   string appended after the last value, default a newline.\n",
      "    flush: whether to forcibly flush the stream.\n",
      "\n"
     ]
    }
   ],
   "source": [
    "# help()函數是python內建的函數之一，可以幫助了解內建的許多資料型別、函數、類別等等\n",
    "help(print)"
   ]
  },
  {
   "cell_type": "markdown",
   "id": "d47e7824",
   "metadata": {},
   "source": [
    "## 跳脫序列\n",
    "以上的程式範例中，我們可以看到一個特殊的字元'\\n'，這是Python的跳脫序列。\\\n",
    "跳脫字元\\\\，標示了跳脫序列的開頭，在**跳脫字元之後的下一個字元會和它組成跳脫序列**。\n",
    "Python中有幾種常見的跳脫序列，如圖:\n",
    "![](https://3.bp.blogspot.com/-PUeZZRqulQM/Wj8xP6vkrVI/AAAAAAAAEv8/1hOGFLbe9uULZ08qLmILmX9e3hh2ECFmACLcBGAs/s1600/Image%2B27.png)\n",
    "通常會用到的只有\\n  , \\\\ , \\\\\" , \\\\' 。\\\n",
    "大多數程式語言都有自己的**跳脫字元**，例如C/C++的跳脫字元也是\\\\，這跟ASCII的**控制字元**不一樣。"
   ]
  },
  {
   "cell_type": "code",
   "execution_count": 46,
   "id": "f272be42",
   "metadata": {},
   "outputs": [
    {
     "name": "stdout",
     "output_type": "stream",
     "text": [
      "1\n",
      "\u0007\n",
      "2\n",
      "\b\n",
      "3\n",
      "\r\n",
      "4\n",
      "\f",
      "\n",
      "5\n",
      "\tword\n",
      "6\n",
      "word1\u000b",
      "word2\n",
      "7\n",
      "a\n",
      "8\n",
      "a\n"
     ]
    }
   ],
   "source": [
    "print(1)\n",
    "print('\\a')\n",
    "print(2)\n",
    "print('\\b')\n",
    "print(3)\n",
    "print('\\r')\n",
    "print(4)\n",
    "print('\\f')\n",
    "print(5)\n",
    "print('\\tword')\n",
    "print(6)\n",
    "print('word1\\vword2')\n",
    "\n",
    "# 根據ASCII碼來輸出\n",
    "print(7)\n",
    "print('\\141')\n",
    "print(8)\n",
    "print('\\x61')"
   ]
  },
  {
   "cell_type": "markdown",
   "id": "54919616",
   "metadata": {},
   "source": [
    "除了以上的方法以外，我們可以還可以透過其他方法，根據ASCII來輸出，或者得到某個字元的ASCII值。"
   ]
  },
  {
   "cell_type": "code",
   "execution_count": 48,
   "id": "05403727",
   "metadata": {},
   "outputs": [
    {
     "name": "stdout",
     "output_type": "stream",
     "text": [
      "129315\n",
      "🤣\n",
      "🤣\n"
     ]
    }
   ],
   "source": [
    "print(ord('🤣'))\n",
    "print(chr(129315))\n",
    "print(f'{129315:c}')"
   ]
  },
  {
   "cell_type": "markdown",
   "id": "333d1c55",
   "metadata": {},
   "source": [
    "# 變數\n",
    "\n",
    "接著我們來到程式語言中非常重要的概念:變數。變數就像一個代數，藉由**賦值運算**，用來儲存經過處理的資料。根據儲存資料的不同，可以將變數分成不同型別，例如：整數變數、字串變數等等。變數的名稱可以由用戶自訂，Python2.x中，只能以{A-Z、\\_、1-9}來為變數取名，在Python3之後，支援UTF-8的大多數字元。變數取名有限制，不能是關鍵字，不能以數字開頭，且如果沒有特殊需求，應該避免以\\_開頭，也應該避免和內建函數名稱相同，例如把變數取名為print。\\\n",
    "關鍵字，或稱保留字有以下幾種，通常是程式語法會使用到的字詞:\n",
    "![](https://beginnersbook.com/wp-content/uploads/2019/03/Python_keywords.jpg)\n",
    "\n",
    "# 運算子\n",
    "> 用來組成**表達式**的基本元素，讓表達式可以返回一個特定的值。\n",
    "\n",
    "## 算數運算子\n",
    "\n",
    "除了基本的`+,-,*,/`，在大多數程式語言中很常見到的**取餘運算(mod)**`%`，`a%b`會回傳a除以b的餘數。\\\n",
    "以上是大多數程式語言中都有的運算子，Python還有兩種比較特別的運算子。\n",
    "`**`:指數運算，`3**2`會回傳9\\\n",
    "`//`:除法並取向下取整，`3//2`回傳1\\\n",
    "除了以上的二元運算(a operator b)，還有一元運算子`-`，功能就跟數學的負號一樣。\n",
    "## 賦值運算子\n",
    "\n",
    "語法:`a = 3`,`b = True`,`c = 'string'`，用`=`將右邊的運算結果指定給左式，跟數學的等號不一樣。\\\n",
    "除了普通的`=`以外，Python也支援將算術運算結合賦值運算的`+=, -=, *=, /=, //=, **=, %=`，`a += 1`的意思相當於`a = a+1`\n",
    "## 比較運算子\n",
    "\n",
    "比較運算子用來比較左右兩條**表達式**的大小關係，有`>=, >, ==, <=, <, !=`六種，如果兩式符合所描述的關係，會回傳`True`，否則會回傳`False`。初學很常犯錯的地方是想要比較兩式是否相等時，誤用了賦值運算的`=`。\n",
    "## 邏輯(布林)運算子\n",
    "`and`:當左右兩條表達式的值都為真，則回傳`True`，否則回傳`False`\n",
    "`or`:當左右兩條表達是有一者為真，回傳`True`，否則回傳`False`\n",
    "`not`:若右側表達式為真，回傳`False`，否則回傳`True`\n",
    "\n",
    "## 位元運算子\n",
    "比較少用到，所以省略。\n",
    "\n",
    "## 運算子的優先順序\n",
    "大原則是**算數>(位元運算子)>賦值=比較>邏輯，由左向右執行**，但注意`**`是唯一一個由右向左執行的運算子。各運算子的詳細優先順序見下圖\n",
    "![](https://techvidvan.com/tutorials/wp-content/uploads/sites/2/2019/12/python-operator-precedence.jpg)\n",
    "![](https://study.com/cimages/multimages/16/precedence_table.png)"
   ]
  },
  {
   "cell_type": "code",
   "execution_count": 7,
   "id": "aa0d6839",
   "metadata": {},
   "outputs": [
    {
     "name": "stdout",
     "output_type": "stream",
     "text": [
      "4\n",
      "4\n",
      "1\n",
      "6\n",
      "1\n",
      "3\n",
      "512\n"
     ]
    }
   ],
   "source": [
    "\n",
    "print(3+3%2)\n",
    "print(3%2+3)\n",
    "print(3*3%2)\n",
    "print(3%7*2)\n",
    "print(3**3%2)\n",
    "print(3%7**2)\n",
    "print(2**3**2)"
   ]
  },
  {
   "cell_type": "code",
   "execution_count": 8,
   "id": "3e2661f8",
   "metadata": {},
   "outputs": [
    {
     "name": "stdout",
     "output_type": "stream",
     "text": [
      "True\n",
      "True\n",
      "6 3\n"
     ]
    }
   ],
   "source": [
    "print(1 == True)\n",
    "print(2 == 5%3)\n",
    "\n",
    "a = b = 3\n",
    "a += b\n",
    "print(a, b)"
   ]
  },
  {
   "cell_type": "markdown",
   "id": "ce77befd",
   "metadata": {},
   "source": [
    "有了運算子和變數的概念，`print`可以玩出更多花樣。\n",
    "\n",
    "# 格式化輸出\n",
    "如果我們想要在一段文字中嵌入變數，可以使用格式化字串，如`f'string'`的形式。藉由不同的前綴，可以對字串做出不同處理，有f,r,b,u四種，此處只簡單介紹f,r兩種。\n",
    "## 格式化字串\n",
    "f-string可以在字串中嵌入表達式`f'...{expression}...'`;注意，在f-string的大括弧中，不能使用\\\\反斜線符號，不能用和最外層一樣的字串分隔符。\n",
    "括弧中應該遵守以下格式，`{expression ['='] ['!'conversation] [':'format_spec]}`\n",
    "\n",
    "其中expression包含先前提過除了賦值運算外的表達式，conversation通常不會用到，format_spec的部分非常複雜，如:\\\n",
    "`{[[fill]align][sign][#][0][width][grouping_option][.precision][type]}`\n",
    "詳情參見[格式字符串微語言](https://docs.python.org/zh-tw/3/library/string.html#formatspec)。\n",
    "\n",
    "\n",
    "通常只會用到align, sign, width, grouping_option, .precision幾種:\\\n",
    "align:`<`,`>`,`^`，分別為置左、置右、置中。`=`只能對數字(int,float,complex)類型使用，會把fill置於sign跟數字之間。\\\n",
    "sign:`+`會標記正負、`-`只會標記負數、` `對正數空一格，對負數標負號。\\\n",
    "width:控制輸出格數，如果變數的範圍超過指定的格數，會被無視。\\\n",
    "grouping_option:為了方便閱讀，對數字所加的分格符號，有`,`,`_`兩種，只對整數部分有效。10進位的數字每三位一個分隔符，2,8,16進位每四格一個分隔。\n",
    ".precision:對浮點數型別使用，控制小數點後的位數，**包含小數點**，會自動進位;對非數字型別，控制最大輸出寬度，如果超出會被省略。\n",
    "## 原始字串\n",
    "r-string可以表示字串中的'\\\\'，也就是讓跳脫字元失效。但想要印出`'`,`\"`時，就需要控制內外的分號不能一樣。"
   ]
  },
  {
   "cell_type": "code",
   "execution_count": 45,
   "id": "23435099",
   "metadata": {},
   "outputs": [
    {
     "name": "stdout",
     "output_type": "stream",
     "text": [
      "'\\n' will not change line\n"
     ]
    }
   ],
   "source": [
    "# r-string\n",
    "print(r\"'\\n' will not change line\")"
   ]
  },
  {
   "cell_type": "code",
   "execution_count": 10,
   "id": "2de284e3",
   "metadata": {},
   "outputs": [
    {
     "name": "stdout",
     "output_type": "stream",
     "text": [
      "Principle of economics is teached by Joseph Wang, which as 5 hours per week\n",
      "Principle of economics is teached by Joseph Wang, which as 5 hours per week\n",
      "{professor}\n",
      "{Ming-Jen Lin}\n",
      "{'Ming-Jen Lin'}\n",
      "'Ming-Jen Lin'\n"
     ]
    }
   ],
   "source": [
    "# f-string\n",
    "Class_name = 'Principle of economics'\n",
    "professor = 'Joseph Wang'\n",
    "a = f'{Class_name} is teached by {professor:3}, which as {1+1+3} hours per week'\n",
    "print(a)\n",
    "professor = 'Ming-Jen Lin'\n",
    "print(a)\n",
    "\n",
    "# 如果想在f-string中使用大括號，必須連用兩層，而且第二層沒辦法顯示變數\n",
    "print(f'{{professor}}')\n",
    "\n",
    "# 用三層可以同時顯示大括號和變數\n",
    "print(f'{{{professor}}}')\n",
    "\n",
    "# conversation\n",
    "print(f'{{{professor!r}}}')\n",
    "print(repr(professor))"
   ]
  },
  {
   "cell_type": "code",
   "execution_count": 17,
   "id": "652a607b",
   "metadata": {},
   "outputs": [
    {
     "name": "stdout",
     "output_type": "stream",
     "text": [
      "   97\n",
      "00097\n",
      "97lll\n",
      "m97mm\n"
     ]
    }
   ],
   "source": [
    "# format_spec的各種範例\n",
    "# fill, align, width of integer\n",
    "print(f'{97:5}')\n",
    "print(f'{97:05}')\n",
    "print(f'{97:l<5}')\n",
    "print(f'{97:m^5}')"
   ]
  },
  {
   "cell_type": "code",
   "execution_count": 16,
   "id": "91420f02",
   "metadata": {},
   "outputs": [
    {
     "name": "stdout",
     "output_type": "stream",
     "text": [
      "str1 \n",
      "rstr1\n",
      "str1\n",
      "str\n"
     ]
    }
   ],
   "source": [
    "# fill, align, width, precision of string\n",
    "str1 = 'str1'\n",
    "str2 = 'str2'\n",
    "print(f'{str1:5}')\n",
    "print(f'{str1:r>5}')\n",
    "print(f'{str1:3}')\n",
    "print(f'{str1:.3}')"
   ]
  },
  {
   "cell_type": "code",
   "execution_count": 15,
   "id": "12788132",
   "metadata": {},
   "outputs": [
    {
     "name": "stdout",
     "output_type": "stream",
     "text": [
      "      3.14\n",
      "3.142     \n",
      "  3.1416  \n"
     ]
    }
   ],
   "source": [
    "# align, width, precision of float\n",
    "import math\n",
    "print(f'{math.pi:10.3}')\n",
    "print(f'{math.pi:<10.4}')\n",
    "print(f'{math.pi:^10.5}')"
   ]
  },
  {
   "cell_type": "code",
   "execution_count": 14,
   "id": "ae3a3bbd",
   "metadata": {},
   "outputs": [
    {
     "name": "stdout",
     "output_type": "stream",
     "text": [
      "str1+str2='str1str2'\n",
      "str1*3='str1str1str1'\n"
     ]
    }
   ],
   "source": [
    "# some operation about string\n",
    "print(f'{str1+str2=}')\n",
    "print(f'{str1*3=}')"
   ]
  },
  {
   "cell_type": "code",
   "execution_count": 13,
   "id": "e99274cf",
   "metadata": {},
   "outputs": [
    {
     "name": "stdout",
     "output_type": "stream",
     "text": [
      "100,000,000\n",
      " 3,141,592.653589793\n",
      "110_0001\n"
     ]
    }
   ],
   "source": [
    "# grouping_option, type\n",
    "print(f'{10**8:,}')\n",
    "print(f'{math.pi*1000000:20,}')\n",
    "print(f'{97:5_b}')"
   ]
  },
  {
   "cell_type": "code",
   "execution_count": 12,
   "id": "6ba754b9",
   "metadata": {},
   "outputs": [
    {
     "name": "stdout",
     "output_type": "stream",
     "text": [
      "0b1100001\n",
      "0o141\n",
      " 0x61\n",
      "    a\n",
      "c    \n"
     ]
    }
   ],
   "source": [
    "# 從這裡以後的程式就不用太認真看了\n",
    "# #, type\n",
    "print(f'{97:#5b}')\n",
    "print(f'{97:#5o}')\n",
    "print(f'{97:#5x}')\n",
    "print(f'{97:5c}')\n",
    "c = 'c'\n",
    "print(f'{c:5}')"
   ]
  },
  {
   "cell_type": "code",
   "execution_count": 11,
   "id": "d39029cb",
   "metadata": {
    "scrolled": true
   },
   "outputs": [
    {
     "name": "stdout",
     "output_type": "stream",
     "text": [
      "-0001\n",
      "+0003\n",
      "-0001\n",
      "00003\n",
      "-0001\n",
      " 0003\n"
     ]
    }
   ],
   "source": [
    "# fill, align, sign, width\n",
    "print(f'{1-2:0=+5}')\n",
    "print(f'{1+2:0=+5}')\n",
    "print(f'{1-2:0=-5}')\n",
    "print(f'{1+2:0=-5}')\n",
    "print(f'{1-2:0= 5}')\n",
    "print(f'{1+2:0= 5}')"
   ]
  },
  {
   "cell_type": "markdown",
   "id": "fd3ea1e4",
   "metadata": {},
   "source": [
    "# Python的標準輸入:input()\n",
    "Python的內建輸入函數為`input`，主要將用戶輸入的訊息轉為**字串**傳給變數，如果用戶輸入數字或者運算式，可以透過`eval()`函數將字串轉換為適合的數字類別。"
   ]
  },
  {
   "cell_type": "code",
   "execution_count": 19,
   "id": "74a88cae",
   "metadata": {},
   "outputs": [
    {
     "name": "stdout",
     "output_type": "stream",
     "text": [
      "type a number10\n",
      "<class 'str'>\n",
      "type an expression: 3**2\n",
      "<class 'int'>\n",
      "9\n"
     ]
    }
   ],
   "source": [
    "# 在括號中可以添加希望打在螢幕上的字串，輸入的文字會緊跟在字串之後，沒有空格\n",
    "# 10\n",
    "a = input('type a number')\n",
    "print(type(a))\n",
    "\n",
    "# 每次呼叫input之後會換行\n",
    "# 3**2\n",
    "b = eval(input('type an expression: '))\n",
    "print(type(b))\n",
    "print(b)"
   ]
  },
  {
   "cell_type": "code",
   "execution_count": 20,
   "id": "8e23f43f",
   "metadata": {},
   "outputs": [
    {
     "name": "stdout",
     "output_type": "stream",
     "text": [
      "6.02e23\n",
      "<class 'float'>\n",
      "6.02e+23\n",
      "0x41\n",
      "<class 'int'>\n",
      "65\n"
     ]
    }
   ],
   "source": [
    "# 6.02e23\n",
    "c = eval(input())\n",
    "print(type(c))\n",
    "print(c)\n",
    "\n",
    "# 0x41\n",
    "d = eval(input())\n",
    "print(type(d))\n",
    "print(d)"
   ]
  },
  {
   "cell_type": "code",
   "execution_count": 25,
   "id": "6af7244a",
   "metadata": {},
   "outputs": [
    {
     "name": "stdout",
     "output_type": "stream",
     "text": [
      "0b1100001\n",
      "0o141\n",
      "0x61\n",
      "97\n",
      "97\n",
      "97\n",
      "97\n"
     ]
    }
   ],
   "source": [
    "print(bin(97))\n",
    "print(oct(97))\n",
    "print(hex(97))\n",
    "print(0b1100001)\n",
    "print(0o141)\n",
    "print(0x61)"
   ]
  }
 ],
 "metadata": {
  "interpreter": {
   "hash": "ca58d10e536a27797855b075f011abd9a70ff59e13e31371850f8d6494bfe2fa"
  },
  "kernelspec": {
   "display_name": "Python 3 (ipykernel)",
   "language": "python",
   "name": "python3"
  },
  "language_info": {
   "codemirror_mode": {
    "name": "ipython",
    "version": 3
   },
   "file_extension": ".py",
   "mimetype": "text/x-python",
   "name": "python",
   "nbconvert_exporter": "python",
   "pygments_lexer": "ipython3",
   "version": "3.8.10"
  }
 },
 "nbformat": 4,
 "nbformat_minor": 5
}
